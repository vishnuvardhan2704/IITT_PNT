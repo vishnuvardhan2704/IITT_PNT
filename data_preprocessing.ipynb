{
 "cells": [
  {
   "cell_type": "code",
   "execution_count": 1,
   "id": "614ecbae",
   "metadata": {},
   "outputs": [],
   "source": [
    "import pandas as pd\n",
    "import numpy as np\n",
    "import matplotlib.pyplot as plt\n"
   ]
  },
  {
   "cell_type": "code",
   "execution_count": 6,
   "id": "52011ce7",
   "metadata": {},
   "outputs": [],
   "source": [
    "import pandas as pd\n",
    "\n",
    "\n",
    "file_path = r'D:\\IIT T dataset\\final_merged_dataset.csv'  # Using raw string\n",
    "\n",
    "df = pd.read_csv(file_path)"
   ]
  },
  {
   "cell_type": "code",
   "execution_count": 7,
   "id": "9a78314c",
   "metadata": {},
   "outputs": [
    {
     "name": "stdout",
     "output_type": "stream",
     "text": [
      "<class 'pandas.core.frame.DataFrame'>\n",
      "RangeIndex: 28529 entries, 0 to 28528\n",
      "Data columns (total 16 columns):\n",
      " #   Column     Non-Null Count  Dtype  \n",
      "---  ------     --------------  -----  \n",
      " 0   date       28529 non-null  object \n",
      " 1   time       28529 non-null  object \n",
      " 2   TEC        28513 non-null  float64\n",
      " 3   lat        28529 non-null  float64\n",
      " 4   lon        28529 non-null  float64\n",
      " 5   alt        28529 non-null  float64\n",
      " 6   az         28529 non-null  float64\n",
      " 7   el         28529 non-null  float64\n",
      " 8   S4         28529 non-null  float64\n",
      " 9   ROTI       28512 non-null  float64\n",
      " 10  PRN        28529 non-null  float64\n",
      " 11  Kp         28529 non-null  float64\n",
      " 12  ap         28529 non-null  int64  \n",
      " 13  Ap         28529 non-null  int64  \n",
      " 14  SN         28529 non-null  int64  \n",
      " 15  F10_7_obs  28529 non-null  float64\n",
      "dtypes: float64(11), int64(3), object(2)\n",
      "memory usage: 3.5+ MB\n"
     ]
    }
   ],
   "source": [
    "df.info()"
   ]
  },
  {
   "cell_type": "code",
   "execution_count": 8,
   "id": "069758d1",
   "metadata": {},
   "outputs": [
    {
     "data": {
      "text/plain": [
       "date          0\n",
       "time          0\n",
       "TEC          16\n",
       "lat           0\n",
       "lon           0\n",
       "alt           0\n",
       "az            0\n",
       "el            0\n",
       "S4            0\n",
       "ROTI         17\n",
       "PRN           0\n",
       "Kp            0\n",
       "ap            0\n",
       "Ap            0\n",
       "SN            0\n",
       "F10_7_obs     0\n",
       "dtype: int64"
      ]
     },
     "execution_count": 8,
     "metadata": {},
     "output_type": "execute_result"
    }
   ],
   "source": [
    "df.isna().sum()"
   ]
  },
  {
   "cell_type": "code",
   "execution_count": 13,
   "id": "d7f9cb9a",
   "metadata": {},
   "outputs": [
    {
     "name": "stdout",
     "output_type": "stream",
     "text": [
      "Rows with NaN: [2011, 2229, 2233, 2235, 2255, 2274, 3776, 3779, 3780, 3789, 3790, 12451, 13643, 13654, 13658, 13660, 13664, 13991, 13995, 14056, 14476, 14508, 14947, 14976, 14979, 15029, 15030, 15036, 15172, 15208, 15213, 15214, 15228]\n",
      "number of rows with NaN: 33\n"
     ]
    }
   ],
   "source": [
    "nan_rows = df[df.isna().any(axis=1)].index.tolist()\n",
    "print(\"Rows with NaN:\", nan_rows)\n",
    "t=0\n",
    "for i in nan_rows:\n",
    "    t+=1\n",
    "print(\"number of rows with NaN:\",t)\n",
    "\n"
   ]
  },
  {
   "cell_type": "code",
   "execution_count": null,
   "id": "3df1c6f1",
   "metadata": {},
   "outputs": [
    {
     "name": "stdout",
     "output_type": "stream",
     "text": [
      "Rows with NaN values:\n",
      "              date   time    TEC        lat       lon         alt          az  \\\n",
      "2011   02-03-2018  09:37   5.83  38.779360 -9.139727  134.931610  183.050000   \n",
      "2229   02-03-2018  13:17   8.38  38.779353 -9.139719  128.313273  182.225000   \n",
      "2233   02-03-2018  13:22   9.32  38.779352 -9.139716  133.777512  182.587500   \n",
      "2235   02-03-2018  13:25   9.18  38.779359 -9.139717  131.108439  182.787500   \n",
      "2255   02-03-2018  13:46   9.50  38.779335 -9.139709  131.379870  188.088889   \n",
      "2274   02-03-2018  14:05   9.46  38.779343 -9.139716  131.725684  149.766667   \n",
      "3776   03-03-2018  15:09   9.28  38.779159 -9.140211  112.626710  138.725000   \n",
      "3779   03-03-2018  15:18  14.72  38.779301 -9.139717  133.737762  182.100000   \n",
      "3780   03-03-2018  15:19  16.89  38.779356 -9.139685  127.868667  185.557143   \n",
      "3789   03-03-2018  15:30  11.03  38.779330 -9.139713  129.389933  181.688889   \n",
      "3790   03-03-2018  15:31  11.03  38.779334 -9.139724  127.720220  181.777778   \n",
      "12451  09-03-2018  15:56   7.33  38.779330 -9.139716  124.115393  183.500000   \n",
      "13643  10-03-2018  11:49   9.06  38.779335 -9.139713  125.902526  179.837500   \n",
      "13654  10-03-2018  12:01   8.26  38.779367 -9.139706  123.424343  238.300000   \n",
      "13658  10-03-2018  12:09  12.99  38.779361 -9.139727  125.857490  151.483333   \n",
      "13660  10-03-2018  12:34   8.33  38.779345 -9.139713  125.663673  146.400000   \n",
      "13664  10-03-2018  12:41   8.65  38.779337 -9.139715  126.768600  190.800000   \n",
      "13991  21-03-2018  21:16    NaN  38.779330 -9.139705  124.362050  186.383333   \n",
      "13995  21-03-2018  21:20    NaN  38.779323 -9.139702  124.266817  194.457143   \n",
      "14056  21-03-2018  22:21    NaN  38.779326 -9.139722  129.133033  205.914286   \n",
      "14476  22-03-2018  05:21    NaN  38.779326 -9.139694  127.106017  166.911111   \n",
      "14508  22-03-2018  05:53    NaN  38.779333 -9.139699  126.865583  176.687500   \n",
      "14947  22-03-2018  13:17    NaN  38.779336 -9.139709  125.723217  173.525000   \n",
      "14976  22-03-2018  13:46    NaN  38.779333 -9.139702  126.340617  161.262500   \n",
      "14979  22-03-2018  13:49    NaN  38.779342 -9.139710  126.226633  179.244444   \n",
      "15029  22-03-2018  14:39    NaN  38.779333 -9.139702  125.038733  200.775000   \n",
      "15030  22-03-2018  14:40    NaN  38.779332 -9.139703  124.150700  200.862500   \n",
      "15036  22-03-2018  14:46    NaN  38.779333 -9.139702  124.231433  201.562500   \n",
      "15172  22-03-2018  17:11    NaN  38.779343 -9.139712  126.434017  198.800000   \n",
      "15208  22-03-2018  17:47    NaN  38.779336 -9.139710  127.436317  190.542857   \n",
      "15213  22-03-2018  17:52    NaN  38.779327 -9.139709  127.101700  189.928571   \n",
      "15214  22-03-2018  17:53    NaN  38.779331 -9.139710  126.746967  189.857143   \n",
      "15228  22-03-2018  18:07    NaN  38.779326 -9.139712  126.314424  193.257143   \n",
      "\n",
      "              el        S4       ROTI   PRN     Kp  ap  Ap  SN  F10_7_obs  \n",
      "2011   68.700000  1.970000        NaN   5.0  0.333   2   4  11       67.8  \n",
      "2229   39.875000  0.358750        NaN  10.0  0.333   2   4  11       67.8  \n",
      "2233   39.837500  0.153750        NaN  10.0  0.333   2   4  11       67.8  \n",
      "2235   39.825000  0.153750        NaN  10.0  0.333   2   4  11       67.8  \n",
      "2255   36.700000  0.121111        NaN  10.0  0.333   2   4  11       67.8  \n",
      "2274   36.211111  0.185556        NaN  10.0  0.333   2   4  11       67.8  \n",
      "3776   35.700000  0.165000        NaN  19.0  1.000   4   5   0       67.8  \n",
      "3779   26.733333  0.213333        NaN  14.0  1.000   4   5   0       67.8  \n",
      "3780   27.942857  0.151429        NaN  10.0  1.000   4   5   0       67.8  \n",
      "3789   33.744444  0.192222        NaN  10.0  1.000   4   5   0       67.8  \n",
      "3790   33.722222  0.192222        NaN  10.0  1.000   4   5   0       67.8  \n",
      "12451  55.133333  1.740000        NaN  12.0  1.000   4  10   0       67.5  \n",
      "13643  38.512500  0.213750        NaN   5.0  2.000   7  12   0       67.7  \n",
      "13654  59.150000  0.470000        NaN  13.0  2.000   7  12   0       67.7  \n",
      "13658  46.850000  0.618333        NaN  12.0  2.000   7  12   0       67.7  \n",
      "13660  28.200000  0.350000        NaN  17.0  2.000   7  12   0       67.7  \n",
      "13664  42.700000  0.480000        NaN  17.0  2.000   7  12   0       67.7  \n",
      "13991  46.016667  0.315000  32.640000   8.0  1.000   4   4   0       69.3  \n",
      "13995  42.671429  0.277143  25.320000   8.0  1.000   4   4   0       69.3  \n",
      "14056  42.328571  0.180000  29.634286   7.0  1.000   4   4   0       69.3  \n",
      "14476  36.766667  0.084444  33.925556   2.0  0.333   2   6   0       68.5  \n",
      "14508  39.762500  0.078750  34.018750   2.0  0.333   2   6   0       68.5  \n",
      "14947  39.150000  0.100000  34.020000  10.0  0.667   3   6   0       68.5  \n",
      "14976  37.262500  0.117500  29.196667  10.0  1.667   6   6   0       68.5  \n",
      "14979  34.177778  0.102222  30.805000  10.0  1.667   6   6   0       68.5  \n",
      "15029  38.312500  0.080000  34.851429   2.0  1.667   6   6   0       68.5  \n",
      "15030  38.412500  0.092500  27.611667   2.0  1.667   6   6   0       68.5  \n",
      "15036  39.150000  0.092500  26.668571   2.0  1.667   6   6   0       68.5  \n",
      "15172  37.775000  0.121250  31.402857  14.0  2.667  12   6   0       68.5  \n",
      "15208  41.100000  0.084286  17.410000  14.0  2.667  12   6   0       68.5  \n",
      "15213  40.857143  0.097143  23.353333  14.0  2.667  12   6   0       68.5  \n",
      "15214  40.842857  0.117143  32.608000  14.0  2.667  12   6   0       68.5  \n",
      "15228  40.785714  0.081429  26.296667  16.0  2.667  12   6   0       68.5  \n"
     ]
    }
   ],
   "source": [
    "# Print rows with NaN in any column\n",
    "nan_rows = df[df.isna().any(axis=1)]\n",
    "print(\"Rows with NaN values:\\n\", nan_rows)"
   ]
  },
  {
   "cell_type": "code",
   "execution_count": null,
   "id": "03e0b5d6",
   "metadata": {},
   "outputs": [],
   "source": [
    "# Extract temporal components\n",
    "df['hour'] = pd.to_datetime(df['date'] + ' ' + df['time']).dt.hour\n",
    "df['day_of_year'] = pd.to_datetime(df['date'] + ' ' + df['time']).dt.dayofyear\n",
    "df['month'] = pd.to_datetime(df['date'] + ' ' + df['time']).dt.month"
   ]
  },
  {
   "cell_type": "code",
   "execution_count": 14,
   "id": "50d66a45",
   "metadata": {},
   "outputs": [],
   "source": [
    "df_copy=df.copy()"
   ]
  },
  {
   "cell_type": "code",
   "execution_count": 16,
   "id": "67bb65fd",
   "metadata": {},
   "outputs": [],
   "source": [
    "\n",
    "# Remove redundant features\n",
    "features_to_drop = ['ap', 'Ap', 'SN']\n",
    "df_clean = df.drop(columns=features_to_drop)"
   ]
  },
  {
   "cell_type": "code",
   "execution_count": 17,
   "id": "e3121b4f",
   "metadata": {},
   "outputs": [
    {
     "name": "stdout",
     "output_type": "stream",
     "text": [
      "Rows with NaN: [2011, 2229, 2233, 2235, 2255, 2274, 3776, 3779, 3780, 3789, 3790, 12451, 13643, 13654, 13658, 13660, 13664, 13991, 13995, 14056, 14476, 14508, 14947, 14976, 14979, 15029, 15030, 15036, 15172, 15208, 15213, 15214, 15228]\n",
      "number of rows with NaN: 33\n"
     ]
    }
   ],
   "source": [
    "nan_rows = df[df.isna().any(axis=1)].index.tolist()\n",
    "print(\"Rows with NaN:\", nan_rows)\n",
    "t=0\n",
    "for i in nan_rows:\n",
    "    t+=1\n",
    "print(\"number of rows with NaN:\",t)\n",
    "\n"
   ]
  },
  {
   "cell_type": "code",
   "execution_count": 23,
   "id": "0b8f6f1b",
   "metadata": {},
   "outputs": [],
   "source": [
    "# Extract hour directly from time column\n",
    "df_clean['hour'] = pd.to_datetime(df_clean['time'], format='%H:%M').dt.hour\n",
    "\n",
    "# Extract day_of_year directly from date column  \n",
    "df_clean['day_of_year'] = pd.to_datetime(df_clean['date'], format='%d-%m-%Y').dt.dayofyear\n",
    "df_clean['month'] = pd.to_datetime(df_clean['date'], format='%d-%m-%Y').dt.month"
   ]
  },
  {
   "cell_type": "code",
   "execution_count": 24,
   "id": "6f1b07cb",
   "metadata": {},
   "outputs": [
    {
     "name": "stdout",
     "output_type": "stream",
     "text": [
      "<class 'pandas.core.frame.DataFrame'>\n",
      "RangeIndex: 28529 entries, 0 to 28528\n",
      "Data columns (total 16 columns):\n",
      " #   Column       Non-Null Count  Dtype  \n",
      "---  ------       --------------  -----  \n",
      " 0   date         28529 non-null  object \n",
      " 1   time         28529 non-null  object \n",
      " 2   TEC          28513 non-null  float64\n",
      " 3   lat          28529 non-null  float64\n",
      " 4   lon          28529 non-null  float64\n",
      " 5   alt          28529 non-null  float64\n",
      " 6   az           28529 non-null  float64\n",
      " 7   el           28529 non-null  float64\n",
      " 8   S4           28529 non-null  float64\n",
      " 9   ROTI         28512 non-null  float64\n",
      " 10  PRN          28529 non-null  float64\n",
      " 11  Kp           28529 non-null  float64\n",
      " 12  F10_7_obs    28529 non-null  float64\n",
      " 13  hour         28529 non-null  int32  \n",
      " 14  day_of_year  28529 non-null  int32  \n",
      " 15  month        28529 non-null  int32  \n",
      "dtypes: float64(11), int32(3), object(2)\n",
      "memory usage: 3.2+ MB\n"
     ]
    }
   ],
   "source": [
    "df_clean.info()"
   ]
  },
  {
   "cell_type": "code",
   "execution_count": 39,
   "id": "e3c6d27f",
   "metadata": {},
   "outputs": [],
   "source": [
    "df_clean['datetime'] = pd.to_datetime(df_clean['date'] + ' ' + df_clean['time'], format='%d-%m-%Y %H:%M')\n",
    "df_clean['month'] = df_clean['datetime'].dt.month\n",
    "# Create cyclical features for LSTM\n",
    "df_clean['hour_sin'] = np.sin(2 * np.pi * df_clean['hour'] / 24)\n",
    "df_clean['hour_cos'] = np.cos(2 * np.pi * df_clean['hour'] / 24)\n",
    "df_clean['day_sin'] = np.sin(2 * np.pi * df_clean['day_of_year'] / 365)\n",
    "df_clean['day_cos'] = np.cos(2 * np.pi * df_clean['day_of_year'] / 365)"
   ]
  },
  {
   "cell_type": "code",
   "execution_count": 40,
   "id": "afe0d028",
   "metadata": {},
   "outputs": [
    {
     "name": "stdout",
     "output_type": "stream",
     "text": [
      "<class 'pandas.core.frame.DataFrame'>\n",
      "RangeIndex: 28529 entries, 0 to 28528\n",
      "Data columns (total 25 columns):\n",
      " #   Column       Non-Null Count  Dtype         \n",
      "---  ------       --------------  -----         \n",
      " 0   date         28529 non-null  object        \n",
      " 1   time         28529 non-null  object        \n",
      " 2   TEC          28513 non-null  float64       \n",
      " 3   lat          28529 non-null  float64       \n",
      " 4   lon          28529 non-null  float64       \n",
      " 5   alt          28529 non-null  float64       \n",
      " 6   az           28529 non-null  float64       \n",
      " 7   el           28529 non-null  float64       \n",
      " 8   S4           28529 non-null  float64       \n",
      " 9   ROTI         28512 non-null  float64       \n",
      " 10  PRN          28529 non-null  float64       \n",
      " 11  Kp           28529 non-null  float64       \n",
      " 12  F10_7_obs    28529 non-null  float64       \n",
      " 13  hour         28529 non-null  int32         \n",
      " 14  day_of_year  28529 non-null  int32         \n",
      " 15  month        28529 non-null  int32         \n",
      " 16  datetime     28529 non-null  datetime64[ns]\n",
      " 17  hour_cos     28529 non-null  float64       \n",
      " 18  hour_sin     28529 non-null  float64       \n",
      " 19  storm_flag   28529 non-null  int32         \n",
      " 20  high_solar   28529 non-null  int32         \n",
      " 21  Kp_lag1      28528 non-null  float64       \n",
      " 22  F10_7_lag1   28528 non-null  float64       \n",
      " 23  day_sin      28529 non-null  float64       \n",
      " 24  day_cos      28529 non-null  float64       \n",
      "dtypes: datetime64[ns](1), float64(17), int32(5), object(2)\n",
      "memory usage: 4.9+ MB\n"
     ]
    }
   ],
   "source": [
    "df_clean.info()"
   ]
  },
  {
   "cell_type": "code",
   "execution_count": 41,
   "id": "493cb3c7",
   "metadata": {},
   "outputs": [],
   "source": [
    "# Create derived features\n",
    "df_clean['storm_flag'] = (df_clean['Kp'] >= 5.0).astype(int)\n",
    "df_clean['high_solar'] = (df_clean['F10_7_obs'] >= 150).astype(int)\n"
   ]
  },
  {
   "cell_type": "code",
   "execution_count": 42,
   "id": "7a03e615",
   "metadata": {},
   "outputs": [
    {
     "data": {
      "text/html": [
       "<div>\n",
       "<style scoped>\n",
       "    .dataframe tbody tr th:only-of-type {\n",
       "        vertical-align: middle;\n",
       "    }\n",
       "\n",
       "    .dataframe tbody tr th {\n",
       "        vertical-align: top;\n",
       "    }\n",
       "\n",
       "    .dataframe thead th {\n",
       "        text-align: right;\n",
       "    }\n",
       "</style>\n",
       "<table border=\"1\" class=\"dataframe\">\n",
       "  <thead>\n",
       "    <tr style=\"text-align: right;\">\n",
       "      <th></th>\n",
       "      <th>date</th>\n",
       "      <th>time</th>\n",
       "      <th>TEC</th>\n",
       "      <th>lat</th>\n",
       "      <th>lon</th>\n",
       "      <th>alt</th>\n",
       "      <th>az</th>\n",
       "      <th>el</th>\n",
       "      <th>S4</th>\n",
       "      <th>ROTI</th>\n",
       "      <th>...</th>\n",
       "      <th>month</th>\n",
       "      <th>datetime</th>\n",
       "      <th>hour_cos</th>\n",
       "      <th>hour_sin</th>\n",
       "      <th>storm_flag</th>\n",
       "      <th>high_solar</th>\n",
       "      <th>Kp_lag1</th>\n",
       "      <th>F10_7_lag1</th>\n",
       "      <th>day_sin</th>\n",
       "      <th>day_cos</th>\n",
       "    </tr>\n",
       "  </thead>\n",
       "  <tbody>\n",
       "    <tr>\n",
       "      <th>1</th>\n",
       "      <td>01-03-2018</td>\n",
       "      <td>00:01</td>\n",
       "      <td>9.14</td>\n",
       "      <td>38.779323</td>\n",
       "      <td>-9.139702</td>\n",
       "      <td>126.733350</td>\n",
       "      <td>206.025000</td>\n",
       "      <td>36.812500</td>\n",
       "      <td>0.086250</td>\n",
       "      <td>9.847500</td>\n",
       "      <td>...</td>\n",
       "      <td>3</td>\n",
       "      <td>2018-03-01 00:01:00</td>\n",
       "      <td>1.0</td>\n",
       "      <td>0.0</td>\n",
       "      <td>0</td>\n",
       "      <td>0</td>\n",
       "      <td>0.667</td>\n",
       "      <td>67.2</td>\n",
       "      <td>0.858764</td>\n",
       "      <td>0.512371</td>\n",
       "    </tr>\n",
       "    <tr>\n",
       "      <th>2</th>\n",
       "      <td>01-03-2018</td>\n",
       "      <td>00:02</td>\n",
       "      <td>9.12</td>\n",
       "      <td>38.779321</td>\n",
       "      <td>-9.139703</td>\n",
       "      <td>127.373833</td>\n",
       "      <td>206.175000</td>\n",
       "      <td>36.837500</td>\n",
       "      <td>0.081250</td>\n",
       "      <td>9.778750</td>\n",
       "      <td>...</td>\n",
       "      <td>3</td>\n",
       "      <td>2018-03-01 00:02:00</td>\n",
       "      <td>1.0</td>\n",
       "      <td>0.0</td>\n",
       "      <td>0</td>\n",
       "      <td>0</td>\n",
       "      <td>0.667</td>\n",
       "      <td>67.2</td>\n",
       "      <td>0.858764</td>\n",
       "      <td>0.512371</td>\n",
       "    </tr>\n",
       "    <tr>\n",
       "      <th>3</th>\n",
       "      <td>01-03-2018</td>\n",
       "      <td>00:03</td>\n",
       "      <td>9.12</td>\n",
       "      <td>38.779319</td>\n",
       "      <td>-9.139709</td>\n",
       "      <td>127.070050</td>\n",
       "      <td>195.366667</td>\n",
       "      <td>33.888889</td>\n",
       "      <td>0.098889</td>\n",
       "      <td>9.242222</td>\n",
       "      <td>...</td>\n",
       "      <td>3</td>\n",
       "      <td>2018-03-01 00:03:00</td>\n",
       "      <td>1.0</td>\n",
       "      <td>0.0</td>\n",
       "      <td>0</td>\n",
       "      <td>0</td>\n",
       "      <td>0.667</td>\n",
       "      <td>67.2</td>\n",
       "      <td>0.858764</td>\n",
       "      <td>0.512371</td>\n",
       "    </tr>\n",
       "    <tr>\n",
       "      <th>4</th>\n",
       "      <td>01-03-2018</td>\n",
       "      <td>00:04</td>\n",
       "      <td>9.11</td>\n",
       "      <td>38.779324</td>\n",
       "      <td>-9.139710</td>\n",
       "      <td>127.703383</td>\n",
       "      <td>195.500000</td>\n",
       "      <td>33.944444</td>\n",
       "      <td>0.095556</td>\n",
       "      <td>10.596667</td>\n",
       "      <td>...</td>\n",
       "      <td>3</td>\n",
       "      <td>2018-03-01 00:04:00</td>\n",
       "      <td>1.0</td>\n",
       "      <td>0.0</td>\n",
       "      <td>0</td>\n",
       "      <td>0</td>\n",
       "      <td>0.667</td>\n",
       "      <td>67.2</td>\n",
       "      <td>0.858764</td>\n",
       "      <td>0.512371</td>\n",
       "    </tr>\n",
       "  </tbody>\n",
       "</table>\n",
       "<p>4 rows × 25 columns</p>\n",
       "</div>"
      ],
      "text/plain": [
       "         date   time   TEC        lat       lon         alt          az  \\\n",
       "1  01-03-2018  00:01  9.14  38.779323 -9.139702  126.733350  206.025000   \n",
       "2  01-03-2018  00:02  9.12  38.779321 -9.139703  127.373833  206.175000   \n",
       "3  01-03-2018  00:03  9.12  38.779319 -9.139709  127.070050  195.366667   \n",
       "4  01-03-2018  00:04  9.11  38.779324 -9.139710  127.703383  195.500000   \n",
       "\n",
       "          el        S4       ROTI  ...  month            datetime  hour_cos  \\\n",
       "1  36.812500  0.086250   9.847500  ...      3 2018-03-01 00:01:00       1.0   \n",
       "2  36.837500  0.081250   9.778750  ...      3 2018-03-01 00:02:00       1.0   \n",
       "3  33.888889  0.098889   9.242222  ...      3 2018-03-01 00:03:00       1.0   \n",
       "4  33.944444  0.095556  10.596667  ...      3 2018-03-01 00:04:00       1.0   \n",
       "\n",
       "   hour_sin  storm_flag  high_solar Kp_lag1  F10_7_lag1   day_sin   day_cos  \n",
       "1       0.0           0           0   0.667        67.2  0.858764  0.512371  \n",
       "2       0.0           0           0   0.667        67.2  0.858764  0.512371  \n",
       "3       0.0           0           0   0.667        67.2  0.858764  0.512371  \n",
       "4       0.0           0           0   0.667        67.2  0.858764  0.512371  \n",
       "\n",
       "[4 rows x 25 columns]"
      ]
     },
     "execution_count": 42,
     "metadata": {},
     "output_type": "execute_result"
    }
   ],
   "source": [
    "df_clean[1:5]"
   ]
  },
  {
   "cell_type": "code",
   "execution_count": 43,
   "id": "f69165c9",
   "metadata": {},
   "outputs": [],
   "source": [
    "# Lagged features for temporal dependencies\n",
    "df_clean['Kp_lag1'] = df_clean['Kp'].shift(1)\n",
    "df_clean['F10_7_lag1'] = df_clean['F10_7_obs'].shift(1)\n"
   ]
  },
  {
   "cell_type": "code",
   "execution_count": 44,
   "id": "4eb323b2",
   "metadata": {},
   "outputs": [],
   "source": [
    "lstm_features = [\n",
    "    # Temporal (cyclical encoding)\n",
    "    'hour_sin', 'hour_cos', 'day_sin', 'day_cos',\n",
    "    \n",
    "    # Spatial\n",
    "    'lat', 'lon', 'alt',\n",
    "    \n",
    "    # Solar/Geomagnetic (current and lagged)\n",
    "    'F10_7_obs', 'F10_7_lag1', 'Kp', 'Kp_lag1',\n",
    "    \n",
    "    # Satellite geometry\n",
    "    'el', 'az',\n",
    "    \n",
    "    # Storm indicators\n",
    "    'storm_flag', 'high_solar',\n",
    "    \n",
    "    # Validation metrics (optional)\n",
    "    'S4', 'ROTI'\n",
    "]\n",
    "\n",
    "target = 'TEC'\n"
   ]
  },
  {
   "cell_type": "code",
   "execution_count": 45,
   "id": "2834a93e",
   "metadata": {},
   "outputs": [],
   "source": [
    "from sklearn.preprocessing import MinMaxScaler\n",
    "\n",
    "# Separate features and target\n",
    "X = df_clean[lstm_features].values\n",
    "y = df_clean[target].values.reshape(-1, 1)\n",
    "\n",
    "# Scale data (MinMaxScaler works better with LSTM)\n",
    "feature_scaler = MinMaxScaler()\n",
    "target_scaler = MinMaxScaler()\n",
    "\n",
    "X_scaled = feature_scaler.fit_transform(X)\n",
    "y_scaled = target_scaler.fit_transform(y)\n"
   ]
  },
  {
   "cell_type": "code",
   "execution_count": 47,
   "id": "4b82bfc6",
   "metadata": {},
   "outputs": [],
   "source": [
    "df_clean_copy = df_clean.copy()"
   ]
  },
  {
   "cell_type": "code",
   "execution_count": 48,
   "id": "07bb296c",
   "metadata": {},
   "outputs": [],
   "source": [
    "# Save to CSV\n",
    "output_file = 'copy_preprocessed_data_before dropping.csv'\n",
    "df_clean.to_csv(output_file, index=False)"
   ]
  },
  {
   "cell_type": "code",
   "execution_count": 50,
   "id": "c17c267b",
   "metadata": {},
   "outputs": [
    {
     "name": "stdout",
     "output_type": "stream",
     "text": [
      "NaN summary by column:\n",
      "date            0\n",
      "time            0\n",
      "TEC            16\n",
      "lat             0\n",
      "lon             0\n",
      "alt             0\n",
      "az              0\n",
      "el              0\n",
      "S4              0\n",
      "ROTI           17\n",
      "PRN             0\n",
      "Kp              0\n",
      "F10_7_obs       0\n",
      "hour            0\n",
      "day_of_year     0\n",
      "month           0\n",
      "datetime        0\n",
      "hour_cos        0\n",
      "hour_sin        0\n",
      "storm_flag      0\n",
      "high_solar      0\n",
      "Kp_lag1         1\n",
      "F10_7_lag1      1\n",
      "day_sin         0\n",
      "day_cos         0\n",
      "dtype: int64\n",
      "NaN rows: 34 out of 28529\n",
      "Time distribution of NaN values:\n",
      "datetime\n",
      "2018-03-22    13\n",
      "2018-03-02     6\n",
      "2018-03-03     5\n",
      "2018-03-10     5\n",
      "2018-03-21     3\n",
      "Name: count, dtype: int64\n"
     ]
    }
   ],
   "source": [
    "# Check where NaN values occur\n",
    "print(\"NaN summary by column:\")\n",
    "print(df_clean.isnull().sum())\n",
    "\n",
    "# Check temporal distribution of NaN values\n",
    "nan_rows = df_clean[df_clean.isnull().any(axis=1)]\n",
    "print(f\"NaN rows: {len(nan_rows)} out of {len(df_clean)}\")\n",
    "print(\"Time distribution of NaN values:\")\n",
    "print(nan_rows['datetime'].dt.date.value_counts().head())\n"
   ]
  },
  {
   "cell_type": "code",
   "execution_count": 52,
   "id": "7cdb9b71",
   "metadata": {},
   "outputs": [],
   "source": [
    "# Set datetime as index before interpolation\n",
    "df_clean = df_clean.set_index('datetime')\n",
    "\n",
    "# Now apply the imputation strategy\n",
    "imputation_strategy = {\n",
    "    'F10_7_obs': 'linear',      # Solar flux changes slowly\n",
    "    'Kp': 'linear',             # Geomagnetic index changes gradually  \n",
    "    'TEC': 'time',              # Strong diurnal patterns - now works!\n",
    "    'lat': 'ffill',             # Position shouldn't change much\n",
    "    'lon': 'ffill',             # Position shouldn't change much\n",
    "    'alt': 'ffill',             # Altitude relatively stable\n",
    "    'S4': 'linear',             # Scintillation can be interpolated\n",
    "    'ROTI': 'linear',           # Rate of change can be interpolated\n",
    "    'PRN': 'ffill'              # Satellite ID - forward fill\n",
    "}\n",
    "\n",
    "for col, method in imputation_strategy.items():\n",
    "    if col in df_clean.columns:\n",
    "        if method == 'linear':\n",
    "            df_clean[col] = df_clean[col].interpolate(method='linear')\n",
    "        elif method == 'time':\n",
    "            df_clean[col] = df_clean[col].interpolate(method='time')\n",
    "        elif method == 'ffill':\n",
    "            df_clean[col] = df_clean[col].fillna(method='ffill')\n",
    "\n",
    "# Reset index back to integer if needed for later processing\n",
    "df_clean = df_clean.reset_index()\n"
   ]
  },
  {
   "cell_type": "code",
   "execution_count": 53,
   "id": "c5fdfd07",
   "metadata": {},
   "outputs": [
    {
     "data": {
      "text/plain": [
       "datetime       0\n",
       "date           0\n",
       "time           0\n",
       "TEC            0\n",
       "lat            0\n",
       "lon            0\n",
       "alt            0\n",
       "az             0\n",
       "el             0\n",
       "S4             0\n",
       "ROTI           0\n",
       "PRN            0\n",
       "Kp             0\n",
       "F10_7_obs      0\n",
       "hour           0\n",
       "day_of_year    0\n",
       "month          0\n",
       "hour_cos       0\n",
       "hour_sin       0\n",
       "storm_flag     0\n",
       "high_solar     0\n",
       "Kp_lag1        1\n",
       "F10_7_lag1     1\n",
       "day_sin        0\n",
       "day_cos        0\n",
       "dtype: int64"
      ]
     },
     "execution_count": 53,
     "metadata": {},
     "output_type": "execute_result"
    }
   ],
   "source": [
    "df_clean.isna().sum()"
   ]
  },
  {
   "cell_type": "code",
   "execution_count": 54,
   "id": "260586a1",
   "metadata": {},
   "outputs": [
    {
     "name": "stdout",
     "output_type": "stream",
     "text": [
      "Dataset shape before dropping NaN: (28529, 25)\n",
      "Dataset shape after dropping NaN: (28528, 25)\n",
      "Rows dropped: -2\n"
     ]
    }
   ],
   "source": [
    "# Drop rows with NaN values (should be only the first row)\n",
    "print(f\"Dataset shape before dropping NaN: {df_clean.shape}\")\n",
    "df_clean = df_clean.dropna()\n",
    "print(f\"Dataset shape after dropping NaN: {df_clean.shape}\")\n",
    "print(f\"Rows dropped: {df_clean.shape[0] - (df_clean.shape[0] + 2)}\")\n"
   ]
  },
  {
   "cell_type": "code",
   "execution_count": 56,
   "id": "89cc96b1",
   "metadata": {},
   "outputs": [
    {
     "data": {
      "text/plain": [
       "datetime       0\n",
       "date           0\n",
       "time           0\n",
       "TEC            0\n",
       "lat            0\n",
       "lon            0\n",
       "alt            0\n",
       "az             0\n",
       "el             0\n",
       "S4             0\n",
       "ROTI           0\n",
       "PRN            0\n",
       "Kp             0\n",
       "F10_7_obs      0\n",
       "hour           0\n",
       "day_of_year    0\n",
       "month          0\n",
       "hour_cos       0\n",
       "hour_sin       0\n",
       "storm_flag     0\n",
       "high_solar     0\n",
       "Kp_lag1        0\n",
       "F10_7_lag1     0\n",
       "day_sin        0\n",
       "day_cos        0\n",
       "dtype: int64"
      ]
     },
     "execution_count": 56,
     "metadata": {},
     "output_type": "execute_result"
    }
   ],
   "source": [
    "df_clean.isna().sum()"
   ]
  },
  {
   "cell_type": "code",
   "execution_count": 57,
   "id": "919e5004",
   "metadata": {},
   "outputs": [],
   "source": [
    "# Save to CSV\n",
    "output_file = 'preprocessed_data.csv'\n",
    "df_clean.to_csv(output_file, index=False)"
   ]
  },
  {
   "cell_type": "code",
   "execution_count": 59,
   "id": "432722d4",
   "metadata": {},
   "outputs": [
    {
     "data": {
      "image/png": "[encoded data removed]",
      "text/plain": [
       "<Figure size 1200x800 with 4 Axes>"
      ]
     },
     "metadata": {},
     "output_type": "display_data"
    }
   ],
   "source": [
    "# Plot a sample period to verify continuity\n",
    "import matplotlib.pyplot as plt\n",
    "\n",
    "sample_period = df_clean.iloc[1000:1500]  # ~8 hours of data\n",
    "fig, axes = plt.subplots(2, 2, figsize=(12, 8))\n",
    "\n",
    "axes[0,0].plot(sample_period['datetime'], sample_period['TEC'])\n",
    "axes[0,0].set_title('TEC after imputation')\n",
    "\n",
    "axes[0,1].plot(sample_period['datetime'], sample_period['F10_7_obs'])\n",
    "axes[0,1].set_title('F10.7 after imputation')\n",
    "\n",
    "axes[1,0].plot(sample_period['datetime'], sample_period['Kp'])\n",
    "axes[1,0].set_title('Kp after imputation')\n",
    "\n",
    "axes[1,1].plot(sample_period['datetime'], sample_period['S4'])\n",
    "axes[1,1].set_title('S4 after imputation')\n",
    "\n",
    "plt.tight_layout()\n",
    "plt.show()\n"
   ]
  },
  {
   "cell_type": "code",
   "execution_count": null,
   "id": "3e353335",
   "metadata": {},
   "outputs": [],
   "source": []
  },
  {
   "cell_type": "code",
   "execution_count": null,
   "id": "27cb7973",
   "metadata": {},
   "outputs": [],
   "source": []
  }
 ],
 "metadata": {
  "kernelspec": {
   "display_name": "Python 3",
   "language": "python",
   "name": "python3"
  },
  "language_info": {
   "codemirror_mode": {
    "name": "ipython",
    "version": 3
   },
   "file_extension": ".py",
   "mimetype": "text/x-python",
   "name": "python",
   "nbconvert_exporter": "python",
   "pygments_lexer": "ipython3",
   "version": "3.11.4"
  }
 },
 "nbformat": 4,
 "nbformat_minor": 5
}
